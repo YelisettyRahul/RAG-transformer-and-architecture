{
 "cells": [
  {
   "cell_type": "markdown",
   "id": "bc055940-3c40-4ba1-b9e1-c32d823a0e6b",
   "metadata": {},
   "source": [
    "Information retrival (+) text Generation = accurate and relevant responses"
   ]
  },
  {
   "cell_type": "markdown",
   "id": "6a81b81c-72de-4cd5-9a77-898923d31153",
   "metadata": {},
   "source": [
    "3 components of RAG architecture \n",
    "1) Input Query\n",
    "2) Retrival\n",
    "3) Generator"
   ]
  },
  {
   "cell_type": "code",
   "execution_count": 3,
   "id": "7bae75b7-d1f9-47ed-ae14-bf75886f7fb9",
   "metadata": {},
   "outputs": [],
   "source": [
    "# Sample dataset with facts about Berlin\n",
    "documents = [\n",
    "    \"Berlin is the capital and largest city of Germany by both area and population.\",\n",
    "    \"Berlin is known for its art scene and modern landmarks like the Berliner Philharmonie.\",\n",
    "    \"The Berlin Wall, which divided the city from 1961 to 1989, was a significant Cold War symbol.\",\n",
    "    \"Berlin has more bridges than Venice, with around 1,700 bridges.\",\n",
    "    \"The city's Zoological Garden is the most visited zoo in Europe and one of the most popular worldwide.\",\n",
    "    \"Berlin's Museum Island is a UNESCO World Heritage site with five world-renowned museums.\",\n",
    "    \"The Reichstag building houses the German Bundestag (Federal Parliament).\",\n",
    "    \"Berlin is famous for its diverse architecture, ranging from historic buildings to modern structures.\",\n",
    "    \"The Berlin Marathon is one of the world's largest and most popular marathons.\",\n",
    "    \"Berlin's public transportation system includes buses, trams, U-Bahn (subway), and S-Bahn (commuter train).\",\n",
    "    \"The Brandenburg Gate is an iconic neoclassical monument in Berlin.\",\n",
    "    \"Berlin has a thriving startup ecosystem and is considered a major tech hub in Europe.\",\n",
    "    \"The city hosts the Berlinale, one of the most prestigious international film festivals.\",\n",
    "    \"Berlin has more than 180 kilometers of navigable waterways.\",\n",
    "    \"The East Side Gallery is an open-air gallery on a remaining section of the Berlin Wall.\",\n",
    "    \"Berlin's Tempelhofer Feld, a former airport, is now a public park and recreational area.\",\n",
    "    \"The TV Tower at Alexanderplatz offers panoramic views of the city.\",\n",
    "    \"Berlin's Tiergarten is one of the largest urban parks in Germany.\",\n",
    "    \"Checkpoint Charlie was a famous crossing point between East and West Berlin during the Cold War.\",\n",
    "    \"Berlin is home to numerous theaters, including the Berliner Ensemble and the Volksbühne.\",\n",
    "    \"The Berlin Philharmonic Orchestra is one of the most famous orchestras in the world.\",\n",
    "    \"Berlin has a vibrant nightlife scene, with countless bars, clubs, and music venues.\",\n",
    "    \"The Berlin Cathedral is a major Protestant church and a landmark of the city.\",\n",
    "    \"Charlottenburg Palace is the largest palace in Berlin and a major tourist attraction.\",\n",
    "    \"Berlin's Alexanderplatz is a large public square and transport hub in central Berlin.\",\n",
    "    \"Berlin is known for its street art, with many murals and graffiti artworks around the city.\",\n",
    "    \"The Gendarmenmarkt is a historic square in Berlin featuring the Konzerthaus, French Cathedral, and German Cathedral.\",\n",
    "    \"Berlin has a strong coffee culture, with numerous cafés throughout the city.\",\n",
    "    \"The Berlin TV Tower is the tallest structure in Germany, standing at 368 meters.\",\n",
    "    \"Berlin's KaDeWe is one of the largest and most famous department stores in Europe.\",\n",
    "    \"The Berlin U-Bahn network has 10 lines and serves 173 stations.\",\n",
    "    \"Berlin has a population of over 3.6 million people.\",\n",
    "    \"The city of Berlin covers an area of 891.8 square kilometers.\",\n",
    "    \"Berlin has a temperate seasonal climate.\",\n",
    "    \"The Berlin International Film Festival, also known as the Berlinale, is one of the world's leading film festivals.\",\n",
    "    \"Berlin is home to the Humboldt University, founded in 1810.\",\n",
    "    \"The Berlin Hauptbahnhof is the largest train station in Europe.\",\n",
    "    \"Berlin's Tegel Airport closed in 2020, and operations moved to Berlin Brandenburg Airport.\",\n",
    "    \"The Spree River runs through the center of Berlin.\",\n",
    "    \"Berlin is twinned with Los Angeles, California, USA.\",\n",
    "    \"The Berlin Botanical Garden is one of the largest and most important botanical gardens in the world.\",\n",
    "    \"Berlin has over 2,500 public parks and gardens.\",\n",
    "    \"The Victory Column (Siegessäule) is a famous monument in Berlin.\",\n",
    "    \"Berlin's Olympic Stadium was built for the 1936 Summer Olympics.\",\n",
    "    \"The Berlin State Library is one of the largest libraries in Europe.\",\n",
    "    \"The Berlin Dungeon is a popular tourist attraction that offers a spooky look at the city's history.\",\n",
    "    \"Berlin's economy is based on high-tech industries and the service sector.\",\n",
    "    \"Berlin is a major center for culture, politics, media, and science.\",\n",
    "    \"The Berlin Wall Memorial commemorates the division of Berlin and the victims of the Wall.\",\n",
    "    \"The city has a large Turkish community, with many residents of Turkish descent.\",\n",
    "    \"Berlin's Mauerpark is a popular park known for its flea market and outdoor karaoke sessions.\",\n",
    "    \"The Berlin Zoological Garden is the oldest zoo in Germany, opened in 1844.\",\n",
    "    \"Berlin is known for its diverse culinary scene, including many vegan and vegetarian restaurants.\",\n",
    "    \"The Berliner Dom is a baroque-style cathedral located on Museum Island.\",\n",
    "    \"The DDR Museum in Berlin offers interactive exhibits about life in East Germany.\",\n",
    "    \"Berlin has a strong cycling culture, with many dedicated bike lanes and bike-sharing programs.\",\n",
    "    \"Berlin's Tempodrom is a multi-purpose event venue known for its unique architecture.\",\n",
    "    \"The Berlinische Galerie is a museum of modern art, photography, and architecture.\",\n",
    "    \"Berlin's Volkspark Friedrichshain is the oldest public park in the city, established in 1848.\",\n",
    "    \"The Hackesche Höfe is a complex of interconnected courtyards in Berlin's Mitte district, known for its vibrant nightlife and art scene.\",\n",
    "    \"Berlin's International Congress Center (ICC) is one of the largest conference centers in the world.\"\n",
    "]"
   ]
  },
  {
   "cell_type": "markdown",
   "id": "d84a0dc9-1d34-47f5-91da-ff7e9e05b236",
   "metadata": {},
   "source": [
    "# tokenization and embeddings"
   ]
  },
  {
   "cell_type": "code",
   "execution_count": 2,
   "id": "7895f9d3-688b-4b15-9d26-25d2c573cf51",
   "metadata": {},
   "outputs": [
    {
     "name": "stdout",
     "output_type": "stream",
     "text": [
      "Collecting faiss-cpu\n",
      "  Downloading faiss_cpu-1.10.0-cp312-cp312-win_amd64.whl.metadata (4.5 kB)\n",
      "Requirement already satisfied: numpy<3.0,>=1.25.0 in c:\\users\\yelisetty rahul\\anaconda3\\lib\\site-packages (from faiss-cpu) (1.26.4)\n",
      "Requirement already satisfied: packaging in c:\\users\\yelisetty rahul\\anaconda3\\lib\\site-packages (from faiss-cpu) (24.1)\n",
      "Downloading faiss_cpu-1.10.0-cp312-cp312-win_amd64.whl (13.7 MB)\n",
      "   ---------------------------------------- 0.0/13.7 MB ? eta -:--:--\n",
      "    --------------------------------------- 0.3/13.7 MB ? eta -:--:--\n",
      "   -- ------------------------------------- 0.8/13.7 MB 11.2 MB/s eta 0:00:02\n",
      "   --- ------------------------------------ 1.3/13.7 MB 2.5 MB/s eta 0:00:05\n",
      "   ------ --------------------------------- 2.1/13.7 MB 2.9 MB/s eta 0:00:05\n",
      "   ------ --------------------------------- 2.4/13.7 MB 2.5 MB/s eta 0:00:05\n",
      "   --------- ------------------------------ 3.1/13.7 MB 2.7 MB/s eta 0:00:04\n",
      "   ---------- ----------------------------- 3.7/13.7 MB 2.6 MB/s eta 0:00:04\n",
      "   ----------- ---------------------------- 3.9/13.7 MB 2.5 MB/s eta 0:00:04\n",
      "   --------------- ------------------------ 5.2/13.7 MB 2.9 MB/s eta 0:00:03\n",
      "   ---------------- ----------------------- 5.8/13.7 MB 2.9 MB/s eta 0:00:03\n",
      "   ------------------ --------------------- 6.3/13.7 MB 2.9 MB/s eta 0:00:03\n",
      "   ------------------- -------------------- 6.6/13.7 MB 2.8 MB/s eta 0:00:03\n",
      "   -------------------- ------------------- 7.1/13.7 MB 2.7 MB/s eta 0:00:03\n",
      "   ----------------------- ---------------- 8.1/13.7 MB 2.8 MB/s eta 0:00:02\n",
      "   -------------------------- ------------- 8.9/13.7 MB 2.9 MB/s eta 0:00:02\n",
      "   ---------------------------- ----------- 9.7/13.7 MB 3.0 MB/s eta 0:00:02\n",
      "   ------------------------------ --------- 10.5/13.7 MB 3.0 MB/s eta 0:00:02\n",
      "   -------------------------------- ------- 11.3/13.7 MB 3.1 MB/s eta 0:00:01\n",
      "   ----------------------------------- ---- 12.1/13.7 MB 3.1 MB/s eta 0:00:01\n",
      "   -------------------------------------- - 13.1/13.7 MB 3.2 MB/s eta 0:00:01\n",
      "   ---------------------------------------- 13.7/13.7 MB 3.2 MB/s eta 0:00:00\n",
      "Installing collected packages: faiss-cpu\n",
      "Successfully installed faiss-cpu-1.10.0\n"
     ]
    }
   ],
   "source": [
    "#install the faiss-cpu library\n",
    "!pip install faiss-cpu"
   ]
  },
  {
   "cell_type": "code",
   "execution_count": 1,
   "id": "3eeb9620-9cca-42d6-90e5-fd635a802169",
   "metadata": {},
   "outputs": [],
   "source": [
    "# Import Libraries\n",
    "import faiss\n",
    "import numpy as np\n",
    "import torch\n",
    "from transformers import AutoTokenizer, AutoModel"
   ]
  },
  {
   "cell_type": "code",
   "execution_count": 4,
   "id": "0d36a2e7-a5bc-43c5-b9a5-c0bea365d1e3",
   "metadata": {},
   "outputs": [],
   "source": [
    "#intiialize the tokenizer and model\n",
    "# Initialize the tokenizer and model for generating embeddings\n",
    "tokenizer = AutoTokenizer.from_pretrained(\"sentence-transformers/paraphrase-MiniLM-L6-v2\")\n",
    "model = AutoModel.from_pretrained(\"sentence-transformers/paraphrase-MiniLM-L6-v2\")"
   ]
  },
  {
   "cell_type": "code",
   "execution_count": 5,
   "id": "db69146d-dcb5-47db-a7f0-440b017879a2",
   "metadata": {},
   "outputs": [],
   "source": [
    " #Function to tokenize the input\n",
    "def embed_text(text,tokenizer,model):\n",
    "    #Tokenize the input text ,retuen tensors in pytorch\n",
    "    inputs=tokenizer(text,\n",
    "                     return_tensors=\"pt\",\n",
    "                     padding=True,\n",
    "                     truncation=True)\n",
    "    #disable gradient calucaltions\n",
    "    with torch.no_grad():\n",
    "        #pass the tokenized input through model\n",
    "        embeddings=model(**inputs).last_hidden_state\n",
    "\n",
    "        embeddings=embeddings.mean(dim=1)\n",
    "    \n",
    "    return embeddings\n",
    "\n",
    "                        \n",
    "                     \n",
    "    "
   ]
  },
  {
   "cell_type": "code",
   "execution_count": null,
   "id": "836764d4-e83e-4db9-b22a-74f1987e60d7",
   "metadata": {},
   "outputs": [],
   "source": []
  },
  {
   "cell_type": "code",
   "execution_count": 6,
   "id": "bbc2c15a-f517-442d-b9cf-e0ec101f713c",
   "metadata": {},
   "outputs": [],
   "source": [
    "document_embeddings=[]\n",
    "\n",
    "#lopp through the document to compute the embedding\n",
    "for doc in documents:\n",
    "    doc_embedding=embed_text(doc,tokenizer,model)\n",
    "    document_embeddings.append(doc_embedding)"
   ]
  },
  {
   "attachments": {
    "a4033060-4c05-4dd5-9e0c-9b7708527470.png": {
     "image/png": "[encoded data removed]"
    }
   },
   "cell_type": "markdown",
   "id": "40f078b7-7d4a-40af-b7f5-7ffa631b9f58",
   "metadata": {},
   "source": [
    "![image.png](attachment:a4033060-4c05-4dd5-9e0c-9b7708527470.png)"
   ]
  },
  {
   "cell_type": "code",
   "execution_count": 13,
   "id": "4cf7edd0-bca7-4527-a4d6-93aabc80b98d",
   "metadata": {},
   "outputs": [
    {
     "name": "stdout",
     "output_type": "stream",
     "text": [
      "(61, 1, 384)\n"
     ]
    }
   ],
   "source": [
    "import numpy as np\n",
    "document_embeddings = np.array(document_embeddings)\n",
    "print(document_embeddings.shape)\n"
   ]
  },
  {
   "cell_type": "code",
   "execution_count": 7,
   "id": "6abd3f54-c784-4368-980f-4edf050edd27",
   "metadata": {},
   "outputs": [],
   "source": [
    "#concatenate all embeddings into pytorch tensor\n",
    "document_embeddings=torch.cat(document_embeddings).cpu().numpy()"
   ]
  },
  {
   "cell_type": "code",
   "execution_count": 8,
   "id": "d275d55b-4312-4695-8306-e382418a10fc",
   "metadata": {},
   "outputs": [
    {
     "data": {
      "text/plain": [
       "array([[ 4.4676778e-01,  1.7827100e-01, -7.5979762e-02, ...,\n",
       "        -1.2662199e-01, -6.9654876e-01,  2.3290634e-01],\n",
       "       [ 7.0775189e-02,  4.9291265e-01, -7.2827019e-02, ...,\n",
       "        -5.6186762e-02, -6.2322754e-01,  3.0493334e-01],\n",
       "       [-3.0446485e-01,  8.7229657e-01, -2.3822074e-01, ...,\n",
       "        -1.6262877e-01, -6.9939291e-01,  2.7724475e-01],\n",
       "       ...,\n",
       "       [ 2.0209843e-01,  4.1806766e-01, -6.0605150e-02, ...,\n",
       "        -4.7432166e-02, -4.7963837e-01, -7.9868984e-04],\n",
       "       [ 3.0231062e-01,  2.8403014e-01, -3.7872145e-01, ...,\n",
       "         1.4499681e-01, -5.9215403e-01,  5.2380767e-02],\n",
       "       [ 2.8142786e-01, -1.3164423e-01, -8.1741029e-01, ...,\n",
       "        -5.3626787e-02,  4.8628643e-02,  4.7794580e-03]], dtype=float32)"
      ]
     },
     "execution_count": 8,
     "metadata": {},
     "output_type": "execute_result"
    }
   ],
   "source": [
    "document_embeddings"
   ]
  },
  {
   "cell_type": "markdown",
   "id": "7d24d616-4293-4c11-b020-5ae6b1ffa4c8",
   "metadata": {},
   "source": [
    "# Build the retrival system"
   ]
  },
  {
   "cell_type": "code",
   "execution_count": 9,
   "id": "18ad602a-c1c7-4ea0-bc5e-1b110c270ec9",
   "metadata": {},
   "outputs": [],
   "source": [
    "#Initialize the Faiss INDEX\n",
    "index=faiss.IndexFlatL2(document_embeddings.shape[1])\n",
    "index.add(document_embeddings)\n"
   ]
  },
  {
   "cell_type": "code",
   "execution_count": 10,
   "id": "609551e6-c94b-458d-87a4-118326ffdd21",
   "metadata": {},
   "outputs": [],
   "source": [
    "#retrival --> build a function to retrive information \n",
    "def retrieve(query,tokenizer,model,index,documents,top_k=3):\n",
    "    query_embedding =embed_text(query,tokenizer,model)\n",
    "    distances,indices=index.search(query_embedding,top_k)\n",
    "    return [documents[i] for i in indices[0]],distances[0]"
   ]
  },
  {
   "cell_type": "code",
   "execution_count": 11,
   "id": "9ebb0c19-22aa-4d2f-8625-71d54d6cd6fb",
   "metadata": {},
   "outputs": [
    {
     "name": "stdout",
     "output_type": "stream",
     "text": [
      "['Berlin is the capital and largest city of Germany by both area and population.', 'Berlin is a major center for culture, politics, media, and science.', 'Berlin is known for its art scene and modern landmarks like the Berliner Philharmonie.']\n",
      "[36.253918 45.818718 48.381382]\n"
     ]
    }
   ],
   "source": [
    "#test twhe retrival function\n",
    "query=\"what is the capital of germany?\"\n",
    "# Retrieve the most similar documents and their distances using the retrieval function\n",
    "retrieved_docs, distances = retrieve(query, tokenizer, model, index, documents)\n",
    "\n",
    "# Print the retrieved documents\n",
    "print(retrieved_docs)\n",
    "# Print the distances of the retrieved documents from the query\n",
    "print(distances)"
   ]
  },
  {
   "cell_type": "markdown",
   "id": "131aa276-32fe-4085-9c64-631d66eb40db",
   "metadata": {},
   "source": [
    "# integrating the generative sysytem "
   ]
  },
  {
   "cell_type": "code",
   "execution_count": 12,
   "id": "b96d6417-a928-4d8e-8a1d-e00e1231700f",
   "metadata": {},
   "outputs": [],
   "source": [
    "from transformers import AutoModelForCausalLM"
   ]
  },
  {
   "cell_type": "code",
   "execution_count": 13,
   "id": "5d0d2f10-3e5f-49ff-bd19-08693d8dbd5b",
   "metadata": {},
   "outputs": [],
   "source": [
    "# Initialize the tokenizer and model for text generation\n",
    "# Load the GPT-2 tokenizer and model for generating text\n",
    "gen_tokenizer = AutoTokenizer.from_pretrained(\"gpt2\")\n",
    "gen_model = AutoModelForCausalLM.from_pretrained(\"gpt2\")"
   ]
  },
  {
   "cell_type": "code",
   "execution_count": 14,
   "id": "ffef82ef-79ef-48f8-9029-53df16841c76",
   "metadata": {},
   "outputs": [],
   "source": [
    "#set the pad token to the  EOS token\n",
    "gen_tokenizer.pad_token=gen_tokenizer.eos_token"
   ]
  },
  {
   "cell_type": "code",
   "execution_count": 15,
   "id": "68bf4ca4-ba81-48b3-95c1-9826bf367c57",
   "metadata": {},
   "outputs": [
    {
     "data": {
      "text/plain": [
       "'Berlin is the capital and largest city of Germany by both area and population. Berlin is a major center for culture, politics, media, and science. Berlin is known for its art scene and modern landmarks like the Berliner Philharmonie.'"
      ]
     },
     "execution_count": 15,
     "metadata": {},
     "output_type": "execute_result"
    }
   ],
   "source": [
    " # Define the context\n",
    "context = \" \".join(retrieved_docs)\n",
    "context "
   ]
  },
  {
   "cell_type": "code",
   "execution_count": 16,
   "id": "589edcfc-c634-44bb-930c-13f3ce366066",
   "metadata": {},
   "outputs": [],
   "source": [
    "input_text = f\"Context {context}\\nQuestion: {query}\\nAnswer:\"\n",
    "\n",
    "    # Tokenize the input text and prepare tensors for the model\n",
    "inputs = tokenizer(input_text,\n",
    "                       return_tensors=\"pt\",\n",
    "                       padding=True,\n",
    "                       truncation=True)\n",
    "\n",
    "input_ids = inputs['input_ids']\n",
    "attention_masks = (input_ids != tokenizer.pad_token_id).long()\\\\it provide the masking \n"
   ]
  },
  {
   "cell_type": "code",
   "execution_count": 17,
   "id": "0c842550-2710-448d-8eb9-600662388957",
   "metadata": {},
   "outputs": [
    {
     "data": {
      "text/plain": [
       "(tensor([[  101,  6123,  4068,  2003,  1996,  3007,  1998,  2922,  2103,  1997,\n",
       "           2762,  2011,  2119,  2181,  1998,  2313,  1012,  4068,  2003,  1037,\n",
       "           2350,  2415,  2005,  3226,  1010,  4331,  1010,  2865,  1010,  1998,\n",
       "           2671,  1012,  4068,  2003,  2124,  2005,  2049,  2396,  3496,  1998,\n",
       "           2715, 16209,  2066,  1996,  4068,  2121,  6316,  8167,  8202,  2666,\n",
       "           1012,  3160,  1024,  2054,  2003,  1996,  3007,  1997,  2762,  1029,\n",
       "           3437,  1024,   102]]),\n",
       " tensor([[1, 1, 1, 1, 1, 1, 1, 1, 1, 1, 1, 1, 1, 1, 1, 1, 1, 1, 1, 1, 1, 1, 1, 1,\n",
       "          1, 1, 1, 1, 1, 1, 1, 1, 1, 1, 1, 1, 1, 1, 1, 1, 1, 1, 1, 1, 1, 1, 1, 1,\n",
       "          1, 1, 1, 1, 1, 1, 1, 1, 1, 1, 1, 1, 1, 1, 1]]))"
      ]
     },
     "execution_count": 17,
     "metadata": {},
     "output_type": "execute_result"
    }
   ],
   "source": [
    "input_ids,attention_masks"
   ]
  },
  {
   "cell_type": "code",
   "execution_count": 18,
   "id": "3bebb939-09ba-4263-a7ca-2a08697a7010",
   "metadata": {},
   "outputs": [],
   "source": [
    "attention_masks2=inputs['attention_mask']"
   ]
  },
  {
   "cell_type": "code",
   "execution_count": 19,
   "id": "5b346d49-b487-4edb-a4b2-6967899ecf72",
   "metadata": {},
   "outputs": [
    {
     "data": {
      "text/plain": [
       "tensor([[1, 1, 1, 1, 1, 1, 1, 1, 1, 1, 1, 1, 1, 1, 1, 1, 1, 1, 1, 1, 1, 1, 1, 1,\n",
       "         1, 1, 1, 1, 1, 1, 1, 1, 1, 1, 1, 1, 1, 1, 1, 1, 1, 1, 1, 1, 1, 1, 1, 1,\n",
       "         1, 1, 1, 1, 1, 1, 1, 1, 1, 1, 1, 1, 1, 1, 1]])"
      ]
     },
     "execution_count": 19,
     "metadata": {},
     "output_type": "execute_result"
    }
   ],
   "source": [
    "attention_masks2"
   ]
  },
  {
   "cell_type": "code",
   "execution_count": 20,
   "id": "7539f8b9-22d6-46bc-909c-526d66563767",
   "metadata": {},
   "outputs": [],
   "source": [
    "# Define a function to generate text based on context and query\n",
    "def generate_text(context, query, model, tokenizer, max_length = 100):\n",
    "    # Format the input text with context and query\n",
    "    input_text = f\"Context {context}\\nQuestion: {query}\\nAnswer:\"\n",
    "\n",
    "    # Tokenize the input text and prepare tensors for the model\n",
    "    inputs = tokenizer(input_text,\n",
    "                       return_tensors=\"pt\",\n",
    "                       padding=True,\n",
    "                       truncation=True)\n",
    "\n",
    "    input_ids = inputs['input_ids']\n",
    "    attention_masks = (input_ids != tokenizer.pad_token_id).long()\n",
    "\n",
    "    # Generate text using the model\n",
    "    outputs = model.generate(\n",
    "        input_ids,\n",
    "        attention_mask=attention_masks,\n",
    "        max_length=max_length,\n",
    "        pad_token_id=tokenizer.eos_token_id\n",
    "    )\n",
    "\n",
    "    # Decode the generated text to a readable format\n",
    "    return tokenizer.decode(outputs[0], skip_special_tokens=True)"
   ]
  },
  {
   "cell_type": "code",
   "execution_count": 21,
   "id": "112eae9a-d5a2-431d-89f5-68a86bcf23f4",
   "metadata": {},
   "outputs": [
    {
     "name": "stdout",
     "output_type": "stream",
     "text": [
      "Generated Answer: Context Berlin is the capital and largest city of Germany by both area and population. Berlin is a major center for culture, politics, media, and science. Berlin is known for its art scene and modern landmarks like the Berliner Philharmonie.\n",
      "Question: what is the capital of germany?\n",
      "Answer: Berlin is the capital of germany. Berlin is a major center for culture, politics, media, and science. Berlin is known for its art scene and modern landmarks like\n"
     ]
    }
   ],
   "source": [
    "# Text the function\n",
    "generated_answer = generate_text(context, query, gen_model, gen_tokenizer)\n",
    "print(f\"Generated Answer: {generated_answer}\")"
   ]
  },
  {
   "cell_type": "markdown",
   "id": "b46b2690-45a5-41c2-9513-564d76e387d8",
   "metadata": {},
   "source": [
    "# RAG SYSTEM"
   ]
  },
  {
   "cell_type": "code",
   "execution_count": 23,
   "id": "6f9dc816-49bf-47bb-848f-07a83d62944a",
   "metadata": {},
   "outputs": [],
   "source": [
    "#define the rag function than integrate retrival and generation\n",
    "def rag(query,retrieval_tokenizer,retrieval_model,retrival_index,gen_model,gen_tokenizer,documents,top_k):\n",
    "    retrieved_docs,distances=retrieve(query,retrieval_tokenizer,\n",
    "                                      retrieval_model,\n",
    "                                      retrival_index,\n",
    "                                      documents,top_k)\n",
    "    context=\" \".join(retrieved_docs)\n",
    "    generated_answer = generate_text(context, query, gen_model, gen_tokenizer)\n",
    "    return generated_answer"
   ]
  },
  {
   "cell_type": "code",
   "execution_count": 24,
   "id": "514f0dc8-970c-4e78-a677-b819dc9b2868",
   "metadata": {},
   "outputs": [
    {
     "name": "stdout",
     "output_type": "stream",
     "text": [
      "Answer: Context Berlin is known for its art scene and modern landmarks like the Berliner Philharmonie. Berlin is a major center for culture, politics, media, and science. Berlin is famous for its diverse architecture, ranging from historic buildings to modern structures.\n",
      "Question: What is Berlin famous for?\n",
      "Answer: Berlin is famous for its art scene and modern landmarks like the Berliner Philharmonie. Berlin is famous for its diverse architecture, ranging from historic buildings to modern structures.\n",
      "Question\n"
     ]
    }
   ],
   "source": [
    "# Text the RAG System\n",
    "query = \"What is Berlin famous for?\"\n",
    "answer = rag(query, tokenizer, model, index, gen_model, gen_tokenizer, documents, 3)\n",
    "print(f\"Answer: {answer}\")"
   ]
  },
  {
   "cell_type": "code",
   "execution_count": 25,
   "id": "c1fd0102-adb2-416f-a50f-0498fdfdc416",
   "metadata": {},
   "outputs": [],
   "source": [
    "# Test the RAG System with multiple queries\n",
    "queries = [\"What is the capital of Germany?\",\n",
    "           \"What is Berlin famous for?\",\n",
    "           \"Who discovered the way to Brazil?\",\n",
    "           \"What is the most famous person in Lesotho?\"]"
   ]
  },
  {
   "cell_type": "code",
   "execution_count": 30,
   "id": "5721928b-3db6-4919-a9df-77f3f0de047e",
   "metadata": {},
   "outputs": [
    {
     "name": "stdout",
     "output_type": "stream",
     "text": [
      "Query: What is the capital of Germany?\n",
      "Answer: Context Berlin is the capital and largest city of Germany by both area and population. Berlin is a major center for culture, politics, media, and science. Berlin is known for its art scene and modern landmarks like the Berliner Philharmonie.\n",
      "Question: What is the capital of Germany?\n",
      "Answer: Berlin is the capital of Germany.\n",
      "Question: What is the capital of Germany?\n",
      "Answer: Berlin is the capital of Germany.\n",
      "Question: What is the capital of Germany?\n",
      "\n",
      "--------------------------------------------------\n",
      "Query: What is Berlin famous for?\n",
      "Answer: Context Berlin is known for its art scene and modern landmarks like the Berliner Philharmonie. Berlin is a major center for culture, politics, media, and science. Berlin is famous for its diverse architecture, ranging from historic buildings to modern structures.\n",
      "Question: What is Berlin famous for?\n",
      "Answer: Berlin is famous for its art scene and modern landmarks like the Berliner Philharmonie. Berlin is famous for its diverse architecture, ranging from historic buildings to modern structures.\n",
      "Question\n",
      "\n",
      "--------------------------------------------------\n",
      "Query: Who discovered the way to Brazil?\n",
      "Answer: Context The Hackesche Höfe is a complex of interconnected courtyards in Berlin's Mitte district, known for its vibrant nightlife and art scene. Berlin's Museum Island is a UNESCO World Heritage site with five world-renowned museums. The Berlin Dungeon is a popular tourist attraction that offers a spooky look at the city's history.\n",
      "Question: Who discovered the way to Brazil?\n",
      "Answer: The first person to discover the way to Brazil was a German explorer named Heinrich\n",
      "\n",
      "--------------------------------------------------\n",
      "Query: What is the most famous person in Lesotho?\n",
      "Answer: Context The Victory Column (Siegessäule) is a famous monument in Berlin. The city's Zoological Garden is the most visited zoo in Europe and one of the most popular worldwide. The Gendarmenmarkt is a historic square in Berlin featuring the Konzerthaus, French Cathedral, and German Cathedral.\n",
      "Question: What is the most famous person in Lesotho?\n",
      "Answer: The most famous person in Lesotho is the famous poet and artist, Jean-\n",
      "\n",
      "--------------------------------------------------\n"
     ]
    }
   ],
   "source": [
    "# Test the RAG system with multiple queries\n",
    "for query in queries:\n",
    "  # Get the generated answer for each query using the RAG function\n",
    "  answer = rag(query,\n",
    "               tokenizer,\n",
    "               model, index,\n",
    "               gen_model,\n",
    "               gen_tokenizer,\n",
    "               documents,\n",
    "               3)\n",
    "\n",
    "  # Print the query and the corresponding generated answer\n",
    "  print(f\"Query: {query}\\nAnswer: {answer}\\n\")\n",
    "  print(\"-\"*50)  "
   ]
  },
  {
   "cell_type": "markdown",
   "id": "521336f2-39fa-4511-9649-1dedd6f60100",
   "metadata": {},
   "source": [
    "* Improve the defination of relevance\n",
    "* Improve the generation -> explore the parameters\n",
    "\n"
   ]
  },
  {
   "cell_type": "code",
   "execution_count": 32,
   "id": "eac484b9-2947-4e16-bad3-e7a9365ba71e",
   "metadata": {},
   "outputs": [
    {
     "name": "stdout",
     "output_type": "stream",
     "text": [
      "Query: What is the capital of Germany?\n",
      "Distances: [36.253918 45.818718 48.381382]\n",
      "Documents: ['Berlin is the capital and largest city of Germany by both area and population.', 'Berlin is a major center for culture, politics, media, and science.', 'Berlin is known for its art scene and modern landmarks like the Berliner Philharmonie.']\n",
      "\n",
      "Query: What is Berlin famous for?\n",
      "Distances: [30.655819 34.76213  35.3083  ]\n",
      "Documents: ['Berlin is the capital and largest city of Germany by both area and population.', 'Berlin is a major center for culture, politics, media, and science.', 'Berlin is known for its art scene and modern landmarks like the Berliner Philharmonie.']\n",
      "\n",
      "Query: Who discovered the way to Brazil?\n",
      "Distances: [70.43681  77.73715  77.846054]\n",
      "Documents: ['Berlin is the capital and largest city of Germany by both area and population.', 'Berlin is a major center for culture, politics, media, and science.', 'Berlin is known for its art scene and modern landmarks like the Berliner Philharmonie.']\n",
      "\n",
      "Query: What is the most famous person in Lesotho?\n",
      "Distances: [73.1856  74.95272 75.61832]\n",
      "Documents: ['Berlin is the capital and largest city of Germany by both area and population.', 'Berlin is a major center for culture, politics, media, and science.', 'Berlin is known for its art scene and modern landmarks like the Berliner Philharmonie.']\n",
      "\n"
     ]
    }
   ],
   "source": [
    "for query in queries:\n",
    "  # Retrieve documents and distances for each query\n",
    "  retrived_docs, distances = retrieve(query,\n",
    "                                      tokenizer,\n",
    "                                      model,\n",
    "                                      index,\n",
    "                                      documents,\n",
    "                                      top_k = 3)\n",
    "  # Print the query\n",
    "  print(f\"Query: {query}\")\n",
    "\n",
    "  # Print the distances of retrieved documents\n",
    "  print(f\"Distances: {distances}\")\n",
    "\n",
    "  # Print the retrieved documents\n",
    "  print(f\"Documents: {retrieved_docs}\")\n",
    "\n",
    "  # Print a blank line for readability\n",
    "  print()"
   ]
  },
  {
   "cell_type": "code",
   "execution_count": 33,
   "id": "f1a1a52c-a711-4458-af3e-af30a3ef4b5d",
   "metadata": {},
   "outputs": [],
   "source": [
    "#define a function that checks for relevance\n",
    "#if the distance if above 40  discard the document\n",
    "def is_relevant(distance,threshold=40):\n",
    "    return distance<threshold"
   ]
  },
  {
   "cell_type": "code",
   "execution_count": 38,
   "id": "d1542eac-d232-4f64-b76a-ab10ee35cc70",
   "metadata": {},
   "outputs": [],
   "source": [
    "#define the rag function than integrate retrival and generation\n",
    "def rag(query,retrieval_tokenizer,retrieval_model,retrival_index,gen_model,gen_tokenizer,documents,top_k):\n",
    "    retrieved_docs,distances=retrieve(query,retrieval_tokenizer,\n",
    "                                      retrieval_model,\n",
    "                                      retrival_index,\n",
    "                                      documents,top_k)\n",
    "    #discard all documents that do not meet the relevance criteria\n",
    "    relevant_docs = [doc for doc, distance in zip(retrieved_docs, distances) if is_relevant(distance, 40)]\n",
    "\n",
    "    #add a message if no retieved doc is relevant\n",
    "    if not relevant_docs:\n",
    "        return \"There is no relevant information\"\n",
    "    context=\" \".join(retrieved_docs)\n",
    "    generated_answer = generate_text(context, query, gen_model, gen_tokenizer)\n",
    "    return generated_answer"
   ]
  },
  {
   "cell_type": "code",
   "execution_count": 39,
   "id": "c768b1e8-a76d-4500-9936-b08d96384862",
   "metadata": {},
   "outputs": [
    {
     "name": "stdout",
     "output_type": "stream",
     "text": [
      "Query: What is the capital of Germany?\n",
      "Answer: Context Berlin is the capital and largest city of Germany by both area and population. Berlin is a major center for culture, politics, media, and science. Berlin is known for its art scene and modern landmarks like the Berliner Philharmonie.\n",
      "Question: What is the capital of Germany?\n",
      "Answer: Berlin is the capital of Germany.\n",
      "Question: What is the capital of Germany?\n",
      "Answer: Berlin is the capital of Germany.\n",
      "Question: What is the capital of Germany?\n",
      "\n",
      "Query: What is Berlin famous for?\n",
      "Answer: Context Berlin is known for its art scene and modern landmarks like the Berliner Philharmonie. Berlin is a major center for culture, politics, media, and science. Berlin is famous for its diverse architecture, ranging from historic buildings to modern structures.\n",
      "Question: What is Berlin famous for?\n",
      "Answer: Berlin is famous for its art scene and modern landmarks like the Berliner Philharmonie. Berlin is famous for its diverse architecture, ranging from historic buildings to modern structures.\n",
      "Question\n",
      "\n",
      "Query: Who discovered the way to Brazil?\n",
      "Answer: There is no relevant information\n",
      "\n",
      "Query: What is the most famous person in Lesotho?\n",
      "Answer: There is no relevant information\n",
      "\n"
     ]
    }
   ],
   "source": [
    "# Test the RAG system\n",
    "for query in queries:\n",
    "  # Get the generated answer for each query using the RAG function\n",
    "  answer = rag(query,\n",
    "               tokenizer,\n",
    "               model, index,\n",
    "               gen_model,\n",
    "               gen_tokenizer,\n",
    "               documents,\n",
    "               3)\n",
    "\n",
    "  # Print the query and the corresponding generated answer\n",
    "  print(f\"Query: {query}\\nAnswer: {answer}\\n\")"
   ]
  },
  {
   "attachments": {
    "17d6fa97-c416-4fdc-940f-29153841b01a.jpg": {
     "image/jpeg": "[encoded data removed]"
    }
   },
   "cell_type": "markdown",
   "id": "980abac0-1a04-4a9e-8fc1-3d0547d61515",
   "metadata": {},
   "source": [
    "![WhatsApp Image 2025-02-24 at 11.53.52_d7a352ea.jpg](attachment:17d6fa97-c416-4fdc-940f-29153841b01a.jpg)\n"
   ]
  },
  {
   "cell_type": "markdown",
   "id": "8799eb50-8c76-40cb-97b7-ee3ffcaed316",
   "metadata": {},
   "source": [
    "# generate need to improve"
   ]
  },
  {
   "cell_type": "code",
   "execution_count": 48,
   "id": "4e48a685-cbf3-4d77-bc23-fd7414085669",
   "metadata": {},
   "outputs": [],
   "source": [
    "# Define a function to generate text based on context and query\n",
    "def generate_text(context, query, model, tokenizer, max_length = 100):\n",
    "    # Format the input text with context and query\n",
    "    input_text = f\"Context {context}\\nQuestion: {query}\\nAnswer:\"\n",
    "\n",
    "    # Tokenize the input text and prepare tensors for the model\n",
    "    inputs = tokenizer(input_text,\n",
    "                       return_tensors=\"pt\",\n",
    "                       padding=True,\n",
    "                       truncation=True)\n",
    "\n",
    "    input_ids = inputs['input_ids']\n",
    "    attention_masks = (input_ids != tokenizer.pad_token_id).long()\n",
    "\n",
    "    # Generate text using the model\n",
    "    outputs = model.generate(\n",
    "        input_ids,\n",
    "        attention_mask=attention_masks,\n",
    "        max_length=max_length,\n",
    "        pad_token_id=tokenizer.eos_token_id,\n",
    "        temperature=0.5, #<------------------- these are added\n",
    "        top_k=20,  #<------------------- these are added\n",
    "        top_p=0.8, #<------------------- these are added\n",
    "        repetition_penalty=1.2, #<------------------- these are added\n",
    "        do_sample=True\n",
    "    )\n",
    "\n",
    "    # Decode the generated text to a readable format\n",
    "    return tokenizer.decode(outputs[0], skip_special_tokens=True)"
   ]
  },
  {
   "cell_type": "code",
   "execution_count": 49,
   "id": "1ab1349d-50de-4759-946b-ef4a616fda1b",
   "metadata": {},
   "outputs": [],
   "source": [
    "#define the rag function than integrate retrival and generation\n",
    "def rag(query,retrieval_tokenizer,retrieval_model,retrival_index,gen_model,gen_tokenizer,documents,top_k):\n",
    "    retrieved_docs,distances=retrieve(query,retrieval_tokenizer,\n",
    "                                      retrieval_model,\n",
    "                                      retrival_index,\n",
    "                                      documents,top_k)\n",
    "    #discard all documents that do not meet the relevance criteria\n",
    "    relevant_docs = [doc for doc, distance in zip(retrieved_docs, distances) if is_relevant(distance, 40)]\n",
    "\n",
    "    #add a message if no retieved doc is relevant\n",
    "    if not relevant_docs:\n",
    "        return \"There is no relevant information\"\n",
    "    context=\" \".join(retrieved_docs)\n",
    "    generated_answer = generate_text(context, query, gen_model, gen_tokenizer)\n",
    "    return generated_answer"
   ]
  },
  {
   "cell_type": "code",
   "execution_count": 50,
   "id": "69b93cdf-d334-4e0b-b9f9-a181ea099967",
   "metadata": {},
   "outputs": [
    {
     "name": "stdout",
     "output_type": "stream",
     "text": [
      "Query: What is the capital of Germany?\n",
      "Answer: Context Berlin is the capital and largest city of Germany by both area and population. Berlin is a major center for culture, politics, media, and science. Berlin is known for its art scene and modern landmarks like the Berliner Philharmonie.\n",
      "Question: What is the capital of Germany?\n",
      "Answer: The German Capital (GDR) has been established in 1871 as part to protect citizens from foreign invasion or attack on their property through legislation enacted during World War I which was implemented after\n",
      "\n",
      "Query: What is Berlin famous for?\n",
      "Answer: Context Berlin is known for its art scene and modern landmarks like the Berliner Philharmonie. Berlin is a major center for culture, politics, media, and science. Berlin is famous for its diverse architecture, ranging from historic buildings to modern structures.\n",
      "Question: What is Berlin famous for?\n",
      "Answer: The city has many interesting attractions that are unique in their own right but also have some of the most beautiful scenery on Earth (see below). Here we will take you through our favorite tourist\n",
      "\n",
      "Query: Who discovered the way to Brazil?\n",
      "Answer: There is no relevant information\n",
      "\n",
      "Query: What is the most famous person in Lesotho?\n",
      "Answer: There is no relevant information\n",
      "\n"
     ]
    }
   ],
   "source": [
    "# Test the RAG system\n",
    "for query in queries:\n",
    "  # Get the generated answer for each query using the RAG function\n",
    "  answer = rag(query,\n",
    "               tokenizer,\n",
    "               model, index,\n",
    "               gen_model,\n",
    "               gen_tokenizer,\n",
    "               documents,\n",
    "               3)\n",
    "\n",
    "  # Print the query and the corresponding generated answer\n",
    "  print(f\"Query: {query}\\nAnswer: {answer}\\n\")"
   ]
  },
  {
   "cell_type": "code",
   "execution_count": null,
   "id": "d77249f5-5c5c-40e7-bb49-e18fe0ad43d5",
   "metadata": {},
   "outputs": [],
   "source": []
  }
 ],
 "metadata": {
  "kernelspec": {
   "display_name": "Python 3 (ipykernel)",
   "language": "python",
   "name": "python3"
  },
  "language_info": {
   "codemirror_mode": {
    "name": "ipython",
    "version": 3
   },
   "file_extension": ".py",
   "mimetype": "text/x-python",
   "name": "python",
   "nbconvert_exporter": "python",
   "pygments_lexer": "ipython3",
   "version": "3.13.2"
  }
 },
 "nbformat": 4,
 "nbformat_minor": 5
}
